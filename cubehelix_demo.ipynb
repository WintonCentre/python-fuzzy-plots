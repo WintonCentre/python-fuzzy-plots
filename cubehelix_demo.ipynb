{
 "cells": [
  {
   "cell_type": "markdown",
   "metadata": {},
   "source": [
    "# Cubehelix Color Maps in Palettable\n",
    "\n",
    "Cubehelix was designed by [D.A. Green](http://adsabs.harvard.edu/abs/2011arXiv1108.5083G) to provide a color mapping that would degrade gracefully to grayscale without losing information. This quality makes Cubehelix very useful for continuous colour scales in scientific visualizations that might be printed in grayscale at some point. [James Davenport](http://github.com/jradavenport/cubehelix) popularized Cubehelix among `matplotlib` users, and now this iteration brings Cubehelix to [Palettable's beautiful API](https://jiffyclub.github.io/palettable/) for managing color maps."
   ]
  },
  {
   "cell_type": "code",
   "execution_count": 1,
   "metadata": {
    "collapsed": true
   },
   "outputs": [],
   "source": [
    "%matplotlib inline\n",
    "\n",
    "import matplotlib.pyplot as plt\n",
    "import numpy as np"
   ]
  },
  {
   "cell_type": "markdown",
   "metadata": {},
   "source": [
    "The Cubehelix functionality is contained within the `palettable.cubehelix` name space, and shares the same API as `palettable.tableau`, `palettable.brewer.sequential`, `palettable.qualitative`, `palettable.diverging`, and `palettable.wesandersen`, for instance."
   ]
  },
  {
   "cell_type": "code",
   "execution_count": 2,
   "metadata": {},
   "outputs": [],
   "source": [
    "from palettable import cubehelix"
   ]
  },
  {
   "cell_type": "markdown",
   "metadata": {},
   "source": [
    "## Making your own Cubehelix Maps\n",
    "\n",
    "Unlike other color maps, Cubehelix is entirely algorithmic. Thus you can make your own map by instantiating a `Cubehelix` object with the `Cubehelix.make()` class method. For example, to make a color palette with 5 colors:"
   ]
  },
  {
   "cell_type": "code",
   "execution_count": 21,
   "metadata": {},
   "outputs": [
    {
     "data": {
      "text/html": [
       "<style type=\"text/css\">table.blockgrid {border: none;} .blockgrid tr {border: none;} .blockgrid td {padding: 0px;} #blocks50a8fbe3-8bf1-42a5-b57f-eba07ad7ae64 td {border: 1px solid white;}</style><table id=\"blocks50a8fbe3-8bf1-42a5-b57f-eba07ad7ae64\" class=\"blockgrid\"><tbody><tr><td title=\"Index: [0, 0]&#10;Color: (135, 59, 97)\" style=\"width: 100px; height: 100px;background-color: rgb(135, 59, 97);\"></td><td title=\"Index: [0, 1]&#10;Color: (125, 98, 202)\" style=\"width: 100px; height: 100px;background-color: rgb(125, 98, 202);\"></td><td title=\"Index: [0, 2]&#10;Color: (63, 181, 207)\" style=\"width: 100px; height: 100px;background-color: rgb(63, 181, 207);\"></td><td title=\"Index: [0, 3]&#10;Color: (100, 230, 115)\" style=\"width: 100px; height: 100px;background-color: rgb(100, 230, 115);\"></td><td title=\"Index: [0, 4]&#10;Color: (233, 213, 117)\" style=\"width: 100px; height: 100px;background-color: rgb(233, 213, 117);\"></td></tr></tbody></table>"
      ],
      "text/plain": [
       "<IPython.core.display.HTML object>"
      ]
     },
     "metadata": {},
     "output_type": "display_data"
    },
    {
     "name": "stdout",
     "output_type": "stream",
     "text": [
      "[[135, 59, 97], [125, 98, 202], [63, 181, 207], [100, 230, 115], [233, 213, 117]]\n"
     ]
    }
   ],
   "source": [
    "cube = cubehelix.Cubehelix.make(n=5, start_hue=240., end_hue=-300.,min_sat=1., max_sat=2.5,\n",
    "                                min_light=0.3, max_light=0.8, gamma=.9)\n",
    "cube.show_as_blocks()  # requires ipythonblocks\n",
    "print(cube.colors)"
   ]
  },
  {
   "cell_type": "code",
   "execution_count": 24,
   "metadata": {},
   "outputs": [
    {
     "data": {
      "text/html": [
       "<style type=\"text/css\">table.blockgrid {border: none;} .blockgrid tr {border: none;} .blockgrid td {padding: 0px;} #blocks9a9d52da-26eb-4210-acc9-48874ddc6586 td {border: 1px solid white;}</style><table id=\"blocks9a9d52da-26eb-4210-acc9-48874ddc6586\" class=\"blockgrid\"><tbody><tr><td title=\"Index: [0, 0]&#10;Color: (0, 0, 0)\" style=\"width: 100px; height: 100px;background-color: rgb(0, 0, 0);\"></td><td title=\"Index: [0, 1]&#10;Color: (0, 14, 4)\" style=\"width: 100px; height: 100px;background-color: rgb(0, 14, 4);\"></td><td title=\"Index: [0, 2]&#10;Color: (0, 28, 15)\" style=\"width: 100px; height: 100px;background-color: rgb(0, 28, 15);\"></td><td title=\"Index: [0, 3]&#10;Color: (0, 41, 30)\" style=\"width: 100px; height: 100px;background-color: rgb(0, 41, 30);\"></td><td title=\"Index: [0, 4]&#10;Color: (0, 52, 50)\" style=\"width: 100px; height: 100px;background-color: rgb(0, 52, 50);\"></td><td title=\"Index: [0, 5]&#10;Color: (0, 60, 72)\" style=\"width: 100px; height: 100px;background-color: rgb(0, 60, 72);\"></td><td title=\"Index: [0, 6]&#10;Color: (9, 66, 96)\" style=\"width: 100px; height: 100px;background-color: rgb(9, 66, 96);\"></td><td title=\"Index: [0, 7]&#10;Color: (23, 70, 119)\" style=\"width: 100px; height: 100px;background-color: rgb(23, 70, 119);\"></td><td title=\"Index: [0, 8]&#10;Color: (40, 72, 140)\" style=\"width: 100px; height: 100px;background-color: rgb(40, 72, 140);\"></td><td title=\"Index: [0, 9]&#10;Color: (62, 72, 159)\" style=\"width: 100px; height: 100px;background-color: rgb(62, 72, 159);\"></td><td title=\"Index: [0, 10]&#10;Color: (87, 72, 172)\" style=\"width: 100px; height: 100px;background-color: rgb(87, 72, 172);\"></td><td title=\"Index: [0, 11]&#10;Color: (113, 72, 181)\" style=\"width: 100px; height: 100px;background-color: rgb(113, 72, 181);\"></td><td title=\"Index: [0, 12]&#10;Color: (139, 73, 185)\" style=\"width: 100px; height: 100px;background-color: rgb(139, 73, 185);\"></td><td title=\"Index: [0, 13]&#10;Color: (164, 75, 184)\" style=\"width: 100px; height: 100px;background-color: rgb(164, 75, 184);\"></td><td title=\"Index: [0, 14]&#10;Color: (187, 79, 178)\" style=\"width: 100px; height: 100px;background-color: rgb(187, 79, 178);\"></td><td title=\"Index: [0, 15]&#10;Color: (206, 86, 169)\" style=\"width: 100px; height: 100px;background-color: rgb(206, 86, 169);\"></td><td title=\"Index: [0, 16]&#10;Color: (221, 95, 159)\" style=\"width: 100px; height: 100px;background-color: rgb(221, 95, 159);\"></td><td title=\"Index: [0, 17]&#10;Color: (232, 107, 147)\" style=\"width: 100px; height: 100px;background-color: rgb(232, 107, 147);\"></td><td title=\"Index: [0, 18]&#10;Color: (237, 121, 137)\" style=\"width: 100px; height: 100px;background-color: rgb(237, 121, 137);\"></td><td title=\"Index: [0, 19]&#10;Color: (239, 137, 129)\" style=\"width: 100px; height: 100px;background-color: rgb(239, 137, 129);\"></td><td title=\"Index: [0, 20]&#10;Color: (236, 154, 125)\" style=\"width: 100px; height: 100px;background-color: rgb(236, 154, 125);\"></td><td title=\"Index: [0, 21]&#10;Color: (232, 171, 126)\" style=\"width: 100px; height: 100px;background-color: rgb(232, 171, 126);\"></td><td title=\"Index: [0, 22]&#10;Color: (226, 188, 131)\" style=\"width: 100px; height: 100px;background-color: rgb(226, 188, 131);\"></td><td title=\"Index: [0, 23]&#10;Color: (220, 204, 142)\" style=\"width: 100px; height: 100px;background-color: rgb(220, 204, 142);\"></td><td title=\"Index: [0, 24]&#10;Color: (216, 218, 157)\" style=\"width: 100px; height: 100px;background-color: rgb(216, 218, 157);\"></td><td title=\"Index: [0, 25]&#10;Color: (215, 230, 175)\" style=\"width: 100px; height: 100px;background-color: rgb(215, 230, 175);\"></td><td title=\"Index: [0, 26]&#10;Color: (218, 239, 196)\" style=\"width: 100px; height: 100px;background-color: rgb(218, 239, 196);\"></td><td title=\"Index: [0, 27]&#10;Color: (226, 246, 217)\" style=\"width: 100px; height: 100px;background-color: rgb(226, 246, 217);\"></td><td title=\"Index: [0, 28]&#10;Color: (238, 251, 237)\" style=\"width: 100px; height: 100px;background-color: rgb(238, 251, 237);\"></td><td title=\"Index: [0, 29]&#10;Color: (255, 255, 255)\" style=\"width: 100px; height: 100px;background-color: rgb(255, 255, 255);\"></td></tr></tbody></table>"
      ],
      "text/plain": [
       "<IPython.core.display.HTML object>"
      ]
     },
     "metadata": {},
     "output_type": "display_data"
    },
    {
     "name": "stdout",
     "output_type": "stream",
     "text": [
      "[[0, 0, 0], [0, 14, 4], [0, 28, 15], [0, 41, 30], [0, 52, 50], [0, 60, 72], [9, 66, 96], [23, 70, 119], [40, 72, 140], [62, 72, 159], [87, 72, 172], [113, 72, 181], [139, 73, 185], [164, 75, 184], [187, 79, 178], [206, 86, 169], [221, 95, 159], [232, 107, 147], [237, 121, 137], [239, 137, 129], [236, 154, 125], [232, 171, 126], [226, 188, 131], [220, 204, 142], [216, 218, 157], [215, 230, 175], [218, 239, 196], [226, 246, 217], [238, 251, 237], [255, 255, 255]]\n"
     ]
    }
   ],
   "source": [
    "my_cube = cubehelix.Cubehelix.make(gamma=1.0, start=2.0, rotation=1.0, sat=1.5, n=30)\n",
    "my_cube.show_as_blocks()\n",
    "print(my_cube.colors)\n"
   ]
  },
  {
   "cell_type": "code",
   "execution_count": 76,
   "metadata": {},
   "outputs": [
    {
     "data": {
      "text/html": [
       "<style type=\"text/css\">table.blockgrid {border: none;} .blockgrid tr {border: none;} .blockgrid td {padding: 0px;} #blocksb3198a2f-3373-4767-aa67-0ae18ad6d80f td {border: 1px solid white;}</style><table id=\"blocksb3198a2f-3373-4767-aa67-0ae18ad6d80f\" class=\"blockgrid\"><tbody><tr><td title=\"Index: [0, 0]&#10;Color: (222, 83, 217)\" style=\"width: 100px; height: 100px;background-color: rgb(222, 83, 217);\"></td><td title=\"Index: [0, 1]&#10;Color: (222, 85, 219)\" style=\"width: 100px; height: 100px;background-color: rgb(222, 85, 219);\"></td><td title=\"Index: [0, 2]&#10;Color: (222, 87, 222)\" style=\"width: 100px; height: 100px;background-color: rgb(222, 87, 222);\"></td><td title=\"Index: [0, 3]&#10;Color: (223, 89, 225)\" style=\"width: 100px; height: 100px;background-color: rgb(223, 89, 225);\"></td><td title=\"Index: [0, 4]&#10;Color: (223, 91, 227)\" style=\"width: 100px; height: 100px;background-color: rgb(223, 91, 227);\"></td><td title=\"Index: [0, 5]&#10;Color: (223, 93, 230)\" style=\"width: 100px; height: 100px;background-color: rgb(223, 93, 230);\"></td><td title=\"Index: [0, 6]&#10;Color: (223, 95, 232)\" style=\"width: 100px; height: 100px;background-color: rgb(223, 95, 232);\"></td><td title=\"Index: [0, 7]&#10;Color: (223, 97, 234)\" style=\"width: 100px; height: 100px;background-color: rgb(223, 97, 234);\"></td><td title=\"Index: [0, 8]&#10;Color: (223, 100, 237)\" style=\"width: 100px; height: 100px;background-color: rgb(223, 100, 237);\"></td><td title=\"Index: [0, 9]&#10;Color: (223, 102, 239)\" style=\"width: 100px; height: 100px;background-color: rgb(223, 102, 239);\"></td><td title=\"Index: [0, 10]&#10;Color: (223, 104, 241)\" style=\"width: 100px; height: 100px;background-color: rgb(223, 104, 241);\"></td><td title=\"Index: [0, 11]&#10;Color: (223, 106, 243)\" style=\"width: 100px; height: 100px;background-color: rgb(223, 106, 243);\"></td><td title=\"Index: [0, 12]&#10;Color: (223, 108, 245)\" style=\"width: 100px; height: 100px;background-color: rgb(223, 108, 245);\"></td><td title=\"Index: [0, 13]&#10;Color: (223, 110, 247)\" style=\"width: 100px; height: 100px;background-color: rgb(223, 110, 247);\"></td><td title=\"Index: [0, 14]&#10;Color: (223, 112, 249)\" style=\"width: 100px; height: 100px;background-color: rgb(223, 112, 249);\"></td><td title=\"Index: [0, 15]&#10;Color: (223, 114, 251)\" style=\"width: 100px; height: 100px;background-color: rgb(223, 114, 251);\"></td><td title=\"Index: [0, 16]&#10;Color: (223, 116, 253)\" style=\"width: 100px; height: 100px;background-color: rgb(223, 116, 253);\"></td><td title=\"Index: [0, 17]&#10;Color: (223, 119, 254)\" style=\"width: 100px; height: 100px;background-color: rgb(223, 119, 254);\"></td><td title=\"Index: [0, 18]&#10;Color: (223, 121, 255)\" style=\"width: 100px; height: 100px;background-color: rgb(223, 121, 255);\"></td><td title=\"Index: [0, 19]&#10;Color: (222, 123, 255)\" style=\"width: 100px; height: 100px;background-color: rgb(222, 123, 255);\"></td><td title=\"Index: [0, 20]&#10;Color: (222, 125, 255)\" style=\"width: 100px; height: 100px;background-color: rgb(222, 125, 255);\"></td><td title=\"Index: [0, 21]&#10;Color: (222, 127, 255)\" style=\"width: 100px; height: 100px;background-color: rgb(222, 127, 255);\"></td><td title=\"Index: [0, 22]&#10;Color: (222, 129, 255)\" style=\"width: 100px; height: 100px;background-color: rgb(222, 129, 255);\"></td><td title=\"Index: [0, 23]&#10;Color: (221, 131, 255)\" style=\"width: 100px; height: 100px;background-color: rgb(221, 131, 255);\"></td><td title=\"Index: [0, 24]&#10;Color: (221, 133, 255)\" style=\"width: 100px; height: 100px;background-color: rgb(221, 133, 255);\"></td><td title=\"Index: [0, 25]&#10;Color: (221, 136, 255)\" style=\"width: 100px; height: 100px;background-color: rgb(221, 136, 255);\"></td><td title=\"Index: [0, 26]&#10;Color: (221, 138, 255)\" style=\"width: 100px; height: 100px;background-color: rgb(221, 138, 255);\"></td><td title=\"Index: [0, 27]&#10;Color: (220, 140, 255)\" style=\"width: 100px; height: 100px;background-color: rgb(220, 140, 255);\"></td><td title=\"Index: [0, 28]&#10;Color: (220, 142, 255)\" style=\"width: 100px; height: 100px;background-color: rgb(220, 142, 255);\"></td><td title=\"Index: [0, 29]&#10;Color: (220, 144, 255)\" style=\"width: 100px; height: 100px;background-color: rgb(220, 144, 255);\"></td><td title=\"Index: [0, 30]&#10;Color: (220, 146, 255)\" style=\"width: 100px; height: 100px;background-color: rgb(220, 146, 255);\"></td><td title=\"Index: [0, 31]&#10;Color: (219, 148, 255)\" style=\"width: 100px; height: 100px;background-color: rgb(219, 148, 255);\"></td><td title=\"Index: [0, 32]&#10;Color: (219, 150, 255)\" style=\"width: 100px; height: 100px;background-color: rgb(219, 150, 255);\"></td><td title=\"Index: [0, 33]&#10;Color: (219, 152, 255)\" style=\"width: 100px; height: 100px;background-color: rgb(219, 152, 255);\"></td><td title=\"Index: [0, 34]&#10;Color: (219, 154, 255)\" style=\"width: 100px; height: 100px;background-color: rgb(219, 154, 255);\"></td><td title=\"Index: [0, 35]&#10;Color: (218, 156, 255)\" style=\"width: 100px; height: 100px;background-color: rgb(218, 156, 255);\"></td><td title=\"Index: [0, 36]&#10;Color: (218, 159, 255)\" style=\"width: 100px; height: 100px;background-color: rgb(218, 159, 255);\"></td><td title=\"Index: [0, 37]&#10;Color: (218, 161, 255)\" style=\"width: 100px; height: 100px;background-color: rgb(218, 161, 255);\"></td><td title=\"Index: [0, 38]&#10;Color: (218, 163, 255)\" style=\"width: 100px; height: 100px;background-color: rgb(218, 163, 255);\"></td><td title=\"Index: [0, 39]&#10;Color: (217, 165, 255)\" style=\"width: 100px; height: 100px;background-color: rgb(217, 165, 255);\"></td><td title=\"Index: [0, 40]&#10;Color: (217, 167, 255)\" style=\"width: 100px; height: 100px;background-color: rgb(217, 167, 255);\"></td><td title=\"Index: [0, 41]&#10;Color: (217, 169, 255)\" style=\"width: 100px; height: 100px;background-color: rgb(217, 169, 255);\"></td><td title=\"Index: [0, 42]&#10;Color: (217, 171, 255)\" style=\"width: 100px; height: 100px;background-color: rgb(217, 171, 255);\"></td><td title=\"Index: [0, 43]&#10;Color: (217, 173, 255)\" style=\"width: 100px; height: 100px;background-color: rgb(217, 173, 255);\"></td><td title=\"Index: [0, 44]&#10;Color: (217, 175, 255)\" style=\"width: 100px; height: 100px;background-color: rgb(217, 175, 255);\"></td><td title=\"Index: [0, 45]&#10;Color: (217, 177, 255)\" style=\"width: 100px; height: 100px;background-color: rgb(217, 177, 255);\"></td><td title=\"Index: [0, 46]&#10;Color: (216, 178, 255)\" style=\"width: 100px; height: 100px;background-color: rgb(216, 178, 255);\"></td><td title=\"Index: [0, 47]&#10;Color: (216, 180, 255)\" style=\"width: 100px; height: 100px;background-color: rgb(216, 180, 255);\"></td><td title=\"Index: [0, 48]&#10;Color: (216, 182, 255)\" style=\"width: 100px; height: 100px;background-color: rgb(216, 182, 255);\"></td><td title=\"Index: [0, 49]&#10;Color: (216, 184, 255)\" style=\"width: 100px; height: 100px;background-color: rgb(216, 184, 255);\"></td><td title=\"Index: [0, 50]&#10;Color: (216, 186, 255)\" style=\"width: 100px; height: 100px;background-color: rgb(216, 186, 255);\"></td><td title=\"Index: [0, 51]&#10;Color: (216, 188, 255)\" style=\"width: 100px; height: 100px;background-color: rgb(216, 188, 255);\"></td><td title=\"Index: [0, 52]&#10;Color: (216, 190, 255)\" style=\"width: 100px; height: 100px;background-color: rgb(216, 190, 255);\"></td><td title=\"Index: [0, 53]&#10;Color: (216, 192, 255)\" style=\"width: 100px; height: 100px;background-color: rgb(216, 192, 255);\"></td><td title=\"Index: [0, 54]&#10;Color: (216, 194, 255)\" style=\"width: 100px; height: 100px;background-color: rgb(216, 194, 255);\"></td><td title=\"Index: [0, 55]&#10;Color: (217, 195, 255)\" style=\"width: 100px; height: 100px;background-color: rgb(217, 195, 255);\"></td><td title=\"Index: [0, 56]&#10;Color: (217, 197, 255)\" style=\"width: 100px; height: 100px;background-color: rgb(217, 197, 255);\"></td><td title=\"Index: [0, 57]&#10;Color: (217, 199, 255)\" style=\"width: 100px; height: 100px;background-color: rgb(217, 199, 255);\"></td><td title=\"Index: [0, 58]&#10;Color: (217, 201, 255)\" style=\"width: 100px; height: 100px;background-color: rgb(217, 201, 255);\"></td><td title=\"Index: [0, 59]&#10;Color: (217, 202, 255)\" style=\"width: 100px; height: 100px;background-color: rgb(217, 202, 255);\"></td><td title=\"Index: [0, 60]&#10;Color: (218, 204, 255)\" style=\"width: 100px; height: 100px;background-color: rgb(218, 204, 255);\"></td><td title=\"Index: [0, 61]&#10;Color: (218, 206, 255)\" style=\"width: 100px; height: 100px;background-color: rgb(218, 206, 255);\"></td><td title=\"Index: [0, 62]&#10;Color: (218, 208, 255)\" style=\"width: 100px; height: 100px;background-color: rgb(218, 208, 255);\"></td><td title=\"Index: [0, 63]&#10;Color: (218, 209, 255)\" style=\"width: 100px; height: 100px;background-color: rgb(218, 209, 255);\"></td><td title=\"Index: [0, 64]&#10;Color: (219, 211, 255)\" style=\"width: 100px; height: 100px;background-color: rgb(219, 211, 255);\"></td><td title=\"Index: [0, 65]&#10;Color: (219, 213, 255)\" style=\"width: 100px; height: 100px;background-color: rgb(219, 213, 255);\"></td><td title=\"Index: [0, 66]&#10;Color: (220, 214, 255)\" style=\"width: 100px; height: 100px;background-color: rgb(220, 214, 255);\"></td><td title=\"Index: [0, 67]&#10;Color: (220, 216, 255)\" style=\"width: 100px; height: 100px;background-color: rgb(220, 216, 255);\"></td><td title=\"Index: [0, 68]&#10;Color: (221, 217, 255)\" style=\"width: 100px; height: 100px;background-color: rgb(221, 217, 255);\"></td><td title=\"Index: [0, 69]&#10;Color: (221, 219, 255)\" style=\"width: 100px; height: 100px;background-color: rgb(221, 219, 255);\"></td><td title=\"Index: [0, 70]&#10;Color: (222, 220, 255)\" style=\"width: 100px; height: 100px;background-color: rgb(222, 220, 255);\"></td><td title=\"Index: [0, 71]&#10;Color: (222, 222, 255)\" style=\"width: 100px; height: 100px;background-color: rgb(222, 222, 255);\"></td><td title=\"Index: [0, 72]&#10;Color: (223, 223, 255)\" style=\"width: 100px; height: 100px;background-color: rgb(223, 223, 255);\"></td><td title=\"Index: [0, 73]&#10;Color: (224, 225, 255)\" style=\"width: 100px; height: 100px;background-color: rgb(224, 225, 255);\"></td><td title=\"Index: [0, 74]&#10;Color: (224, 226, 255)\" style=\"width: 100px; height: 100px;background-color: rgb(224, 226, 255);\"></td><td title=\"Index: [0, 75]&#10;Color: (225, 228, 255)\" style=\"width: 100px; height: 100px;background-color: rgb(225, 228, 255);\"></td><td title=\"Index: [0, 76]&#10;Color: (226, 229, 255)\" style=\"width: 100px; height: 100px;background-color: rgb(226, 229, 255);\"></td><td title=\"Index: [0, 77]&#10;Color: (227, 230, 255)\" style=\"width: 100px; height: 100px;background-color: rgb(227, 230, 255);\"></td><td title=\"Index: [0, 78]&#10;Color: (228, 232, 255)\" style=\"width: 100px; height: 100px;background-color: rgb(228, 232, 255);\"></td><td title=\"Index: [0, 79]&#10;Color: (229, 233, 255)\" style=\"width: 100px; height: 100px;background-color: rgb(229, 233, 255);\"></td><td title=\"Index: [0, 80]&#10;Color: (229, 234, 255)\" style=\"width: 100px; height: 100px;background-color: rgb(229, 234, 255);\"></td><td title=\"Index: [0, 81]&#10;Color: (230, 236, 255)\" style=\"width: 100px; height: 100px;background-color: rgb(230, 236, 255);\"></td><td title=\"Index: [0, 82]&#10;Color: (231, 237, 255)\" style=\"width: 100px; height: 100px;background-color: rgb(231, 237, 255);\"></td><td title=\"Index: [0, 83]&#10;Color: (233, 238, 255)\" style=\"width: 100px; height: 100px;background-color: rgb(233, 238, 255);\"></td><td title=\"Index: [0, 84]&#10;Color: (234, 239, 255)\" style=\"width: 100px; height: 100px;background-color: rgb(234, 239, 255);\"></td><td title=\"Index: [0, 85]&#10;Color: (235, 241, 255)\" style=\"width: 100px; height: 100px;background-color: rgb(235, 241, 255);\"></td><td title=\"Index: [0, 86]&#10;Color: (236, 242, 255)\" style=\"width: 100px; height: 100px;background-color: rgb(236, 242, 255);\"></td><td title=\"Index: [0, 87]&#10;Color: (237, 243, 255)\" style=\"width: 100px; height: 100px;background-color: rgb(237, 243, 255);\"></td><td title=\"Index: [0, 88]&#10;Color: (238, 244, 255)\" style=\"width: 100px; height: 100px;background-color: rgb(238, 244, 255);\"></td><td title=\"Index: [0, 89]&#10;Color: (240, 245, 255)\" style=\"width: 100px; height: 100px;background-color: rgb(240, 245, 255);\"></td><td title=\"Index: [0, 90]&#10;Color: (241, 246, 255)\" style=\"width: 100px; height: 100px;background-color: rgb(241, 246, 255);\"></td><td title=\"Index: [0, 91]&#10;Color: (242, 247, 255)\" style=\"width: 100px; height: 100px;background-color: rgb(242, 247, 255);\"></td><td title=\"Index: [0, 92]&#10;Color: (244, 248, 255)\" style=\"width: 100px; height: 100px;background-color: rgb(244, 248, 255);\"></td><td title=\"Index: [0, 93]&#10;Color: (245, 249, 255)\" style=\"width: 100px; height: 100px;background-color: rgb(245, 249, 255);\"></td><td title=\"Index: [0, 94]&#10;Color: (247, 250, 255)\" style=\"width: 100px; height: 100px;background-color: rgb(247, 250, 255);\"></td><td title=\"Index: [0, 95]&#10;Color: (248, 251, 255)\" style=\"width: 100px; height: 100px;background-color: rgb(248, 251, 255);\"></td><td title=\"Index: [0, 96]&#10;Color: (250, 252, 255)\" style=\"width: 100px; height: 100px;background-color: rgb(250, 252, 255);\"></td><td title=\"Index: [0, 97]&#10;Color: (251, 253, 255)\" style=\"width: 100px; height: 100px;background-color: rgb(251, 253, 255);\"></td><td title=\"Index: [0, 98]&#10;Color: (253, 254, 255)\" style=\"width: 100px; height: 100px;background-color: rgb(253, 254, 255);\"></td><td title=\"Index: [0, 99]&#10;Color: (255, 255, 255)\" style=\"width: 100px; height: 100px;background-color: rgb(255, 255, 255);\"></td></tr></tbody></table>"
      ],
      "text/plain": [
       "<IPython.core.display.HTML object>"
      ]
     },
     "metadata": {},
     "output_type": "display_data"
    }
   ],
   "source": [
    "my_cube = cubehelix.Cubehelix.make(gamma=0.5, start=0.7, rotation=-0.3, sat=2, n=100, reverse=False,\n",
    "                                      min_light=0.3, max_light=1)\n",
    "my_cube.show_as_blocks()"
   ]
  },
  {
   "cell_type": "markdown",
   "metadata": {},
   "source": [
    "The Cubehelix docstring provides some guidance on how to build custom Cubehelix maps."
   ]
  },
  {
   "cell_type": "code",
   "execution_count": 4,
   "metadata": {},
   "outputs": [
    {
     "name": "stdout",
     "output_type": "stream",
     "text": [
      "\n",
      "        Create an arbitrary Cubehelix color palette from the algorithm.\n",
      "\n",
      "        See http://adsabs.harvard.edu/abs/2011arXiv1108.5083G for a technical\n",
      "        explanation of the algorithm.\n",
      "\n",
      "        Parameters\n",
      "        ----------\n",
      "        start : scalar, optional\n",
      "            Sets the starting position in the RGB color space. 0=blue, 1=red,\n",
      "            2=green. Default is ``0.5`` (purple).\n",
      "        rotation : scalar, optional\n",
      "            The number of rotations through the rainbow. Can be positive\n",
      "            or negative, indicating direction of rainbow. Negative values\n",
      "            correspond to Blue->Red direction. Default is ``-1.5``.\n",
      "        start_hue : scalar, optional\n",
      "            Sets the starting color, ranging from [-360, 360]. Combined with\n",
      "            `end_hue`, this parameter overrides ``start`` and ``rotation``.\n",
      "            This parameter is based on the D3 implementation by @mbostock.\n",
      "            Default is ``None``.\n",
      "        end_hue : scalar, optional\n",
      "            Sets the ending color, ranging from [-360, 360]. Combined with\n",
      "            `start_hue`, this parameter overrides ``start`` and ``rotation``.\n",
      "            This parameter is based on the D3 implementation by @mbostock.\n",
      "            Default is ``None``.\n",
      "        gamma : scalar, optional\n",
      "            The gamma correction for intensity. Values of ``gamma < 1``\n",
      "            emphasize low intensities while ``gamma > 1`` emphasises high\n",
      "            intensities. Default is ``1.0``.\n",
      "        sat : scalar, optional\n",
      "            The uniform saturation intensity factor. ``sat=0`` produces\n",
      "            grayscale, while ``sat=1`` retains the full saturation. Setting\n",
      "            ``sat>1`` oversaturates the color map, at the risk of clipping\n",
      "            the color scale. Note that ``sat`` overrides both ``min_stat``\n",
      "            and ``max_sat`` if set.\n",
      "        min_sat : scalar, optional\n",
      "            Saturation at the minimum level. Default is ``1.2``.\n",
      "        max_sat : scalar, optional\n",
      "            Satuation at the maximum level. Default is ``1.2``.\n",
      "        min_light : scalar, optional\n",
      "            Minimum lightness value. Default is ``0``.\n",
      "        max_light : scalar, optional\n",
      "            Maximum lightness value. Default is ``1``.\n",
      "        n : scalar, optional\n",
      "            Number of discrete rendered colors. Default is ``256``.\n",
      "        reverse : bool, optional\n",
      "            Set to ``True`` to reverse the color map. Will go from black to\n",
      "            white. Good for density plots where shade -> density.\n",
      "            Default is ``False``.\n",
      "        name : str, optional\n",
      "            Name of the color map (defaults to ``'custom_cubehelix'``).\n",
      "\n",
      "        Returns\n",
      "        -------\n",
      "        palette : `Cubehelix`\n",
      "            A Cubehelix color palette.\n",
      "        \n"
     ]
    }
   ],
   "source": [
    "print(cubehelix.Cubehelix.make.__doc__)"
   ]
  },
  {
   "cell_type": "markdown",
   "metadata": {},
   "source": [
    "## Pre-made Cubehelix Maps\n",
    "\n",
    "Of course, you can also use a number of pre-made color maps. The pre-made cubehelix maps have 16 computed colors. Since matplotlib's color maps are linearly interpolated, these work great as continuous color maps.\n",
    "\n",
    "Like the other color maps in Palettable, the cubehelix maps are available from the `palettable.cubehelix` namespace. Here is a listing of color map names:"
   ]
  },
  {
   "cell_type": "code",
   "execution_count": 5,
   "metadata": {},
   "outputs": [
    {
     "name": "stdout",
     "output_type": "stream",
     "text": [
      "classic_16               sequential      \n",
      "perceptual_rainbow_16    sequential      \n",
      "purple_16                sequential      \n",
      "jim_special_16           sequential      \n",
      "red_16                   sequential      \n",
      "cubehelix1_16            sequential      \n",
      "cubehelix2_16            sequential      \n",
      "cubehelix3_16            sequential      \n"
     ]
    }
   ],
   "source": [
    "cubehelix.print_maps()"
   ]
  },
  {
   "cell_type": "markdown",
   "metadata": {},
   "source": [
    "And examples:"
   ]
  },
  {
   "cell_type": "code",
   "execution_count": 6,
   "metadata": {},
   "outputs": [
    {
     "data": {
      "image/png": "[encoded data removed]",
      "text/plain": [
       "<IPython.core.display.Image object>"
      ]
     },
     "metadata": {},
     "output_type": "display_data"
    }
   ],
   "source": [
    "cubehelix.classic_16.show_continuous_image()"
   ]
  },
  {
   "cell_type": "code",
   "execution_count": 7,
   "metadata": {},
   "outputs": [
    {
     "data": {
      "image/png": "[encoded data removed]",
      "text/plain": [
       "<IPython.core.display.Image object>"
      ]
     },
     "metadata": {},
     "output_type": "display_data"
    }
   ],
   "source": [
    "cubehelix.perceptual_rainbow_16.show_continuous_image()"
   ]
  },
  {
   "cell_type": "code",
   "execution_count": 8,
   "metadata": {},
   "outputs": [
    {
     "data": {
      "image/png": "[encoded data removed]",
      "text/plain": [
       "<IPython.core.display.Image object>"
      ]
     },
     "metadata": {},
     "output_type": "display_data"
    }
   ],
   "source": [
    "cubehelix.purple_16.show_continuous_image()"
   ]
  },
  {
   "cell_type": "code",
   "execution_count": 9,
   "metadata": {},
   "outputs": [
    {
     "data": {
      "image/png": "[encoded data removed]",
      "text/plain": [
       "<IPython.core.display.Image object>"
      ]
     },
     "metadata": {},
     "output_type": "display_data"
    }
   ],
   "source": [
    "cubehelix.jim_special_16.show_continuous_image()"
   ]
  },
  {
   "cell_type": "code",
   "execution_count": 10,
   "metadata": {},
   "outputs": [
    {
     "data": {
      "image/png": "[encoded data removed]",
      "text/plain": [
       "<IPython.core.display.Image object>"
      ]
     },
     "metadata": {},
     "output_type": "display_data"
    }
   ],
   "source": [
    "cubehelix.red_16.show_continuous_image()"
   ]
  },
  {
   "cell_type": "code",
   "execution_count": 11,
   "metadata": {},
   "outputs": [
    {
     "data": {
      "image/png": "[encoded data removed]",
      "text/plain": [
       "<IPython.core.display.Image object>"
      ]
     },
     "metadata": {},
     "output_type": "display_data"
    }
   ],
   "source": [
    "cubehelix.cubehelix1_16.show_continuous_image()"
   ]
  },
  {
   "cell_type": "code",
   "execution_count": 12,
   "metadata": {},
   "outputs": [
    {
     "data": {
      "image/png": "[encoded data removed]",
      "text/plain": [
       "<IPython.core.display.Image object>"
      ]
     },
     "metadata": {},
     "output_type": "display_data"
    }
   ],
   "source": [
    "cubehelix.cubehelix2_16.show_continuous_image()"
   ]
  },
  {
   "cell_type": "code",
   "execution_count": 13,
   "metadata": {},
   "outputs": [
    {
     "data": {
      "image/png": "[encoded data removed]",
      "text/plain": [
       "<IPython.core.display.Image object>"
      ]
     },
     "metadata": {},
     "output_type": "display_data"
    }
   ],
   "source": [
    "cubehelix.cubehelix3_16.show_continuous_image()"
   ]
  },
  {
   "cell_type": "markdown",
   "metadata": {},
   "source": [
    "Of course, you can can reverse any color map by appending `_r` to the map's name."
   ]
  },
  {
   "cell_type": "code",
   "execution_count": 14,
   "metadata": {},
   "outputs": [
    {
     "data": {
      "image/png": "[encoded data removed]",
      "text/plain": [
       "<IPython.core.display.Image object>"
      ]
     },
     "metadata": {},
     "output_type": "display_data"
    }
   ],
   "source": [
    "cubehelix.cubehelix3_16_r.show_continuous_image()"
   ]
  }
 ],
 "metadata": {
  "kernelspec": {
   "display_name": "Python 3",
   "language": "python",
   "name": "python3"
  },
  "language_info": {
   "codemirror_mode": {
    "name": "ipython",
    "version": 3
   },
   "file_extension": ".py",
   "mimetype": "text/x-python",
   "name": "python",
   "nbconvert_exporter": "python",
   "pygments_lexer": "ipython3",
   "version": "3.7.2"
  }
 },
 "nbformat": 4,
 "nbformat_minor": 1
}

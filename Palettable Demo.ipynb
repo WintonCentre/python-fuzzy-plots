{
 "cells": [
  {
   "cell_type": "markdown",
   "metadata": {},
   "source": [
    "# Palettable"
   ]
  },
  {
   "cell_type": "markdown",
   "metadata": {},
   "source": [
    "Find Palettable online:\n",
    "\n",
    "- Docs: https://jiffyclub.github.io/palettable/\n",
    "- GitHub: https://github.com/jiffyclub/palettable\n",
    "- PyPI: https://pypi.python.org/pypi/palettable/"
   ]
  },
  {
   "cell_type": "code",
   "execution_count": 2,
   "metadata": {
    "collapsed": true
   },
   "outputs": [],
   "source": [
    "%matplotlib inline"
   ]
  },
  {
   "cell_type": "code",
   "execution_count": 3,
   "metadata": {
    "collapsed": true
   },
   "outputs": [],
   "source": [
    "import matplotlib.pyplot as plt\n",
    "import numpy as np"
   ]
  },
  {
   "cell_type": "markdown",
   "metadata": {},
   "source": [
    "# Palettable API"
   ]
  },
  {
   "cell_type": "code",
   "execution_count": 4,
   "metadata": {
    "collapsed": true
   },
   "outputs": [],
   "source": [
    "from palettable.colorbrewer.qualitative import Set1_9"
   ]
  },
  {
   "cell_type": "code",
   "execution_count": 5,
   "metadata": {},
   "outputs": [
    {
     "data": {
      "text/plain": [
       "'Set1'"
      ]
     },
     "execution_count": 5,
     "metadata": {},
     "output_type": "execute_result"
    }
   ],
   "source": [
    "Set1_9.name"
   ]
  },
  {
   "cell_type": "code",
   "execution_count": 6,
   "metadata": {},
   "outputs": [
    {
     "data": {
      "text/plain": [
       "'qualitative'"
      ]
     },
     "execution_count": 6,
     "metadata": {},
     "output_type": "execute_result"
    }
   ],
   "source": [
    "Set1_9.type"
   ]
  },
  {
   "cell_type": "code",
   "execution_count": 7,
   "metadata": {},
   "outputs": [
    {
     "data": {
      "text/plain": [
       "9"
      ]
     },
     "execution_count": 7,
     "metadata": {},
     "output_type": "execute_result"
    }
   ],
   "source": [
    "Set1_9.number"
   ]
  },
  {
   "cell_type": "code",
   "execution_count": 8,
   "metadata": {},
   "outputs": [
    {
     "data": {
      "text/plain": [
       "[[228, 26, 28],\n",
       " [55, 126, 184],\n",
       " [77, 175, 74],\n",
       " [152, 78, 163],\n",
       " [255, 127, 0],\n",
       " [255, 255, 51],\n",
       " [166, 86, 40],\n",
       " [247, 129, 191],\n",
       " [153, 153, 153]]"
      ]
     },
     "execution_count": 8,
     "metadata": {},
     "output_type": "execute_result"
    }
   ],
   "source": [
    "Set1_9.colors"
   ]
  },
  {
   "cell_type": "code",
   "execution_count": 9,
   "metadata": {},
   "outputs": [
    {
     "data": {
      "text/plain": [
       "['#E41A1C',\n",
       " '#377EB8',\n",
       " '#4DAF4A',\n",
       " '#984EA3',\n",
       " '#FF7F00',\n",
       " '#FFFF33',\n",
       " '#A65628',\n",
       " '#F781BF',\n",
       " '#999999']"
      ]
     },
     "execution_count": 9,
     "metadata": {},
     "output_type": "execute_result"
    }
   ],
   "source": [
    "Set1_9.hex_colors"
   ]
  },
  {
   "cell_type": "code",
   "execution_count": 10,
   "metadata": {},
   "outputs": [
    {
     "data": {
      "text/plain": [
       "[(0.8941176470588236, 0.10196078431372549, 0.10980392156862745),\n",
       " (0.21568627450980393, 0.49411764705882355, 0.7215686274509804),\n",
       " (0.30196078431372547, 0.6862745098039216, 0.2901960784313726),\n",
       " (0.596078431372549, 0.3058823529411765, 0.6392156862745098),\n",
       " (1.0, 0.4980392156862745, 0.0),\n",
       " (1.0, 1.0, 0.2),\n",
       " (0.6509803921568628, 0.33725490196078434, 0.1568627450980392),\n",
       " (0.9686274509803922, 0.5058823529411764, 0.7490196078431373),\n",
       " (0.6, 0.6, 0.6)]"
      ]
     },
     "execution_count": 10,
     "metadata": {},
     "output_type": "execute_result"
    }
   ],
   "source": [
    "Set1_9.mpl_colors"
   ]
  },
  {
   "cell_type": "code",
   "execution_count": 11,
   "metadata": {},
   "outputs": [
    {
     "data": {
      "text/plain": [
       "<matplotlib.colors.LinearSegmentedColormap at 0x106725d30>"
      ]
     },
     "execution_count": 11,
     "metadata": {},
     "output_type": "execute_result"
    }
   ],
   "source": [
    "Set1_9.mpl_colormap"
   ]
  },
  {
   "cell_type": "code",
   "execution_count": 12,
   "metadata": {},
   "outputs": [
    {
     "data": {
      "text/html": [
       "<style type=\"text/css\">table.blockgrid {border: none;} .blockgrid tr {border: none;} .blockgrid td {padding: 0px;} #blocks228b3313-0a14-44ba-b77d-c34274e6cb05 td {border: 1px solid white;}</style><table id=\"blocks228b3313-0a14-44ba-b77d-c34274e6cb05\" class=\"blockgrid\"><tbody><tr><td title=\"Index: [0, 0]&#10;Color: (228, 26, 28)\" style=\"width: 100px; height: 100px;background-color: rgb(228, 26, 28);\"></td><td title=\"Index: [0, 1]&#10;Color: (55, 126, 184)\" style=\"width: 100px; height: 100px;background-color: rgb(55, 126, 184);\"></td><td title=\"Index: [0, 2]&#10;Color: (77, 175, 74)\" style=\"width: 100px; height: 100px;background-color: rgb(77, 175, 74);\"></td><td title=\"Index: [0, 3]&#10;Color: (152, 78, 163)\" style=\"width: 100px; height: 100px;background-color: rgb(152, 78, 163);\"></td><td title=\"Index: [0, 4]&#10;Color: (255, 127, 0)\" style=\"width: 100px; height: 100px;background-color: rgb(255, 127, 0);\"></td><td title=\"Index: [0, 5]&#10;Color: (255, 255, 51)\" style=\"width: 100px; height: 100px;background-color: rgb(255, 255, 51);\"></td><td title=\"Index: [0, 6]&#10;Color: (166, 86, 40)\" style=\"width: 100px; height: 100px;background-color: rgb(166, 86, 40);\"></td><td title=\"Index: [0, 7]&#10;Color: (247, 129, 191)\" style=\"width: 100px; height: 100px;background-color: rgb(247, 129, 191);\"></td><td title=\"Index: [0, 8]&#10;Color: (153, 153, 153)\" style=\"width: 100px; height: 100px;background-color: rgb(153, 153, 153);\"></td></tr></tbody></table>"
      ],
      "text/plain": [
       "<IPython.core.display.HTML object>"
      ]
     },
     "metadata": {},
     "output_type": "execute_result"
    }
   ],
   "source": [
    "# requires ipythonblocks\n",
    "Set1_9.show_as_blocks()"
   ]
  },
  {
   "cell_type": "code",
   "execution_count": 13,
   "metadata": {},
   "outputs": [
    {
     "data": {
      "image/png": "[encoded data removed]",
      "text/plain": [
       "<IPython.core.display.Image object>"
      ]
     },
     "metadata": {},
     "output_type": "display_data"
    }
   ],
   "source": [
    "Set1_9.show_continuous_image()"
   ]
  },
  {
   "cell_type": "code",
   "execution_count": 14,
   "metadata": {},
   "outputs": [
    {
     "data": {
      "image/png": "[encoded data removed]",
      "text/plain": [
       "<IPython.core.display.Image object>"
      ]
     },
     "metadata": {},
     "output_type": "display_data"
    }
   ],
   "source": [
    "Set1_9.show_discrete_image()"
   ]
  },
  {
   "cell_type": "markdown",
   "metadata": {},
   "source": [
    "# Setting the matplotlib Color Cycle"
   ]
  },
  {
   "cell_type": "markdown",
   "metadata": {},
   "source": [
    "Adapted from the example at http://matplotlib.org/examples/color/color_cycle_demo.html.\n",
    "Use the `.mpl_colors` attribute to change the color cycle used by matplotlib\n",
    "when colors for plots are not specified."
   ]
  },
  {
   "cell_type": "code",
   "execution_count": 3,
   "metadata": {
    "collapsed": true
   },
   "outputs": [],
   "source": [
    "from palettable.wesanderson import Aquatic1_5, Moonrise4_5"
   ]
  },
  {
   "cell_type": "code",
   "execution_count": 4,
   "metadata": {},
   "outputs": [
    {
     "data": {
      "image/png": "[encoded data removed]",
      "text/plain": [
       "<matplotlib.figure.Figure at 0x106998f60>"
      ]
     },
     "metadata": {},
     "output_type": "display_data"
    }
   ],
   "source": [
    "x = np.linspace(0, 2 * np.pi)\n",
    "offsets = np.linspace(0, 2*np.pi, 4, endpoint=False)\n",
    "# Create array with shifted-sine curve along each column\n",
    "yy = np.transpose([np.sin(x + phi) for phi in offsets])\n",
    "\n",
    "plt.rc('lines', linewidth=4)\n",
    "plt.rc('axes', color_cycle=Aquatic1_5.mpl_colors)\n",
    "\n",
    "fig, (ax0, ax1)  = plt.subplots(nrows=2)\n",
    "\n",
    "ax0.plot(yy)\n",
    "ax0.set_title('Set default color cycle to Aquatic1_5')\n",
    "\n",
    "ax1.set_color_cycle(Moonrise4_5.mpl_colors)\n",
    "ax1.plot(yy)\n",
    "ax1.set_title('Set axes color cycle to Moonrise4_5')\n",
    "\n",
    "# Tweak spacing between subplots to prevent labels from overlapping\n",
    "plt.subplots_adjust(hspace=0.3)"
   ]
  },
  {
   "cell_type": "markdown",
   "metadata": {},
   "source": [
    "# Using a Continuous Palette"
   ]
  },
  {
   "cell_type": "markdown",
   "metadata": {},
   "source": [
    "Adapted from http://matplotlib.org/examples/pylab_examples/hist2d_log_demo.html.\n",
    "Use the `.mpl_colormap` attribute any place you need a matplotlib colormap."
   ]
  },
  {
   "cell_type": "code",
   "execution_count": 5,
   "metadata": {
    "collapsed": true
   },
   "outputs": [],
   "source": [
    "from palettable.colorbrewer.sequential import YlGnBu_9"
   ]
  },
  {
   "cell_type": "code",
   "execution_count": 9,
   "metadata": {},
   "outputs": [
    {
     "data": {
      "text/plain": [
       "<matplotlib.colorbar.Colorbar at 0x107b0eda0>"
      ]
     },
     "execution_count": 9,
     "metadata": {},
     "output_type": "execute_result"
    },
    {
     "data": {
      "image/png": "[encoded data removed]",
      "text/plain": [
       "<matplotlib.figure.Figure at 0x1072cd9e8>"
      ]
     },
     "metadata": {},
     "output_type": "display_data"
    }
   ],
   "source": [
    "from matplotlib.colors import LogNorm\n",
    "\n",
    "#normal distribution center at x=0 and y=5\n",
    "x = np.random.randn(100000)\n",
    "y = np.random.randn(100000)+5\n",
    "\n",
    "plt.hist2d(x, y, bins=40, norm=LogNorm(), cmap=YlGnBu_9.mpl_colormap)\n",
    "plt.colorbar()"
   ]
  },
  {
   "cell_type": "markdown",
   "metadata": {},
   "source": [
    "Note that matplotlib already has colorbrewer palettes, as you can see at\n",
    "http://matplotlib.org/examples/color/colormaps_reference.html.\n",
    "Above I could have used `cmap=plt.cm.YlGnBu` for the same affect."
   ]
  },
  {
   "cell_type": "code",
   "execution_count": null,
   "metadata": {
    "collapsed": true
   },
   "outputs": [],
   "source": []
  }
 ],
 "metadata": {
  "kernelspec": {
   "display_name": "Python 3",
   "language": "python",
   "name": "python3"
  },
  "language_info": {
   "codemirror_mode": {
    "name": "ipython",
    "version": 3
   },
   "file_extension": ".py",
   "mimetype": "text/x-python",
   "name": "python",
   "nbconvert_exporter": "python",
   "pygments_lexer": "ipython3",
   "version": "3.7.2"
  }
 },
 "nbformat": 4,
 "nbformat_minor": 1
}
